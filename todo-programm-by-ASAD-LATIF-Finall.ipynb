{
 "cells": [
  {
   "cell_type": "code",
   "execution_count": 1,
   "metadata": {
    "colab": {
     "base_uri": "https://localhost:8080/",
     "height": 493
    },
    "colab_type": "code",
    "id": "rt_z7XRSoCfu",
    "outputId": "3f014a52-9118-4cf6-dc74-dccc5320b748"
   },
   "outputs": [
    {
     "name": "stdout",
     "output_type": "stream",
     "text": [
      "['awake', 'namaz', 'breakfast', 'university', 'assignment']\n",
      "please enter any one tast for yourself which is mentioned above  \n",
      "awake\n",
      "congratulation you finished your first tast which is awake\n",
      "\n",
      "now its time to your second taske please choose one of these amount mentioned below\n",
      "\n",
      "['namaz', 'breakfast', 'university', 'assignment']\n",
      "namaz\n",
      "welldone you finished your second task very well which is \n",
      " namaz\n",
      "go on you will finish all you tasks chose your next task \n",
      "\n",
      "['breakfast', 'university', 'assignment']\n",
      "breakfast\n",
      "excellent job you finished this task breakfast\n",
      "chose next remaining task please \n",
      "['university', 'assignment']\n",
      "university\n",
      "congratulation you finished your fourth task which is university\n",
      "Please select again your last task for today \n",
      " \n",
      "['assignment']\n",
      "assignment\n",
      "this in not mentioned in your task\n",
      " \n",
      "select again make sure your spell are also same \n",
      "['assignment']\n",
      "assignment\n",
      "congratulation\n"
     ]
    }
   ],
   "source": [
    "todo = ['awake', 'namaz', 'breakfast', 'university', 'assignment']\n",
    "empty= []\n",
    "print(todo)\n",
    "first = input('please enter any one tast for yourself which is mentioned above  \\n').lower()     #this is first input from user \n",
    "if first in todo:\n",
    "  empty.append(first)\n",
    "  todo.remove(first)\n",
    "  print('congratulation you finished your first tast which is ' +first)\n",
    "  print('')\n",
    "  print(\"now its time to your second taske please choose one of these amount mentioned below\\n\")\n",
    "  print(todo)\n",
    "  second = input('').lower()                                        #this is second input from user\n",
    "  if second in todo:\n",
    "    empty.append(second)\n",
    "    todo.remove(second)\n",
    "    print('welldone you finished your second task very well which is \\n ' +second)\n",
    "    print('go on you will finish all you tasks chose your next task \\n')\n",
    "    print(todo)\n",
    "    third = input('').lower()                                        #this is third input from user\n",
    "    if third in todo:\n",
    "      empty.append(third)\n",
    "      todo.remove(third)\n",
    "      print('excellent job you finished this task ' +third)\n",
    "      print(\"chose next remaining task please \")\n",
    "      print(todo)\n",
    "      fourth = input(\"\").lower()                                     #this is fourth input from user\n",
    "      if fourth in todo:\n",
    "        empty.append(fourth)\n",
    "        todo.remove(fourth)\n",
    "        print('congratulation you finished your fourth task which is ' +fourth)\n",
    "        print('Please select again your last task for today \\n ')\n",
    "        print(todo)\n",
    "        fifth = input('').lower                                        #this is fifth input from user\n",
    "        if fifth in todo:\n",
    "          empty.append(fifth)\n",
    "          todo.remove(fifth)\n",
    "          print('Finaly you completed your all tasts from today')\n",
    "        else:\n",
    "          print('this in not mentioned in your task\\n ')\n",
    "          print('select again make sure your spell are also same ')\n",
    "          print(todo)\n",
    "          fourth = input().lower()\n",
    "          if fourth in todo:\n",
    "            print('congratulation')\n",
    "          else:\n",
    "            print('you again insert invalid value')\n",
    "      else:\n",
    "        (\"this in not mentioned in your task\")\n",
    "    else:\n",
    "        ('this in not mentioned in your task ')\n",
    "  else:\n",
    "    print('this is not mentioned in your task')\n",
    "  \n",
    "else:\n",
    "  print('this is not in tast')"
   ]
  },
  {
   "cell_type": "code",
   "execution_count": null,
   "metadata": {
    "colab": {},
    "colab_type": "code",
    "id": "s76QEToeofNN"
   },
   "outputs": [],
   "source": []
  },
  {
   "cell_type": "code",
   "execution_count": null,
   "metadata": {},
   "outputs": [],
   "source": []
  }
 ],
 "metadata": {
  "colab": {
   "collapsed_sections": [],
   "name": "Untitled4.ipynb",
   "provenance": [],
   "version": "0.3.2"
  },
  "kernelspec": {
   "display_name": "Python 3",
   "language": "python",
   "name": "python3"
  },
  "language_info": {
   "codemirror_mode": {
    "name": "ipython",
    "version": 3
   },
   "file_extension": ".py",
   "mimetype": "text/x-python",
   "name": "python",
   "nbconvert_exporter": "python",
   "pygments_lexer": "ipython3",
   "version": "3.7.3"
  }
 },
 "nbformat": 4,
 "nbformat_minor": 1
}
